{
 "cells": [
  {
   "cell_type": "markdown",
   "source": [
    "## Artificial Intelligence | 4022 | Dr. Fadaei\n",
    "## Assignment #03\n",
    "***\n",
    "### Amirreza Akbari | 810899045\n",
    "### 1402/02/08"
   ],
   "metadata": {
    "collapsed": false
   },
   "id": "13f4fe2422f551c4"
  },
  {
   "cell_type": "code",
   "outputs": [],
   "source": [],
   "metadata": {
    "collapsed": false
   },
   "id": "7a52148d7877a137"
  }
 ],
 "metadata": {
  "kernelspec": {
   "display_name": "Python 3",
   "language": "python",
   "name": "python3"
  },
  "language_info": {
   "codemirror_mode": {
    "name": "ipython",
    "version": 2
   },
   "file_extension": ".py",
   "mimetype": "text/x-python",
   "name": "python",
   "nbconvert_exporter": "python",
   "pygments_lexer": "ipython2",
   "version": "2.7.6"
  }
 },
 "nbformat": 4,
 "nbformat_minor": 5
}
