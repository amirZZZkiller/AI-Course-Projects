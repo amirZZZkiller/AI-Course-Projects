{
 "cells": [
  {
   "cell_type": "markdown",
   "source": [
    "## Artificial Intelligence | 4022 | Dr. Fadaei\n",
    "## Assignment #05\n",
    "***\n",
    "### Amirreza Akbari | 810899045\n",
    "### 1402/03/18"
   ],
   "metadata": {
    "collapsed": false
   },
   "id": "13f4fe2422f551c4"
  },
  {
   "cell_type": "markdown",
   "source": [
    "## Install & Import Libraries"
   ],
   "metadata": {
    "collapsed": false
   },
   "id": "57c5f19e837b62b4"
  },
  {
   "cell_type": "code",
   "outputs": [],
   "source": [
    "import importlib.util\n",
    "\n",
    "required_libraries = [\"pandas\", \"matplotlib\", \"nltk\", \"emoji\"]\n",
    "\n",
    "for lib in required_libraries:\n",
    "    if importlib.util.find_spec(lib) is None:\n",
    "        # Install the library\n",
    "        !pip install {lib}\n",
    "\n",
    "from nltk.corpus import stopwords\n",
    "from nltk.stem import WordNetLemmatizer\n",
    "from nltk.tokenize import word_tokenize\n",
    "\n",
    "import pandas as pd\n",
    "import matplotlib.pyplot as plt\n",
    "import re\n",
    "import nltk\n",
    "import emoji\n"
   ],
   "metadata": {
    "collapsed": false,
    "ExecuteTime": {
     "end_time": "2024-06-07T01:08:33.380906200Z",
     "start_time": "2024-06-07T01:08:33.350985600Z"
    }
   },
   "id": "3be93f085e8de8f7",
   "execution_count": 13
  },
  {
   "cell_type": "markdown",
   "source": [
    "## Part 0: Data Preparation"
   ],
   "metadata": {
    "collapsed": false
   },
   "id": "bdec1b2c0da69d02"
  },
  {
   "cell_type": "markdown",
   "source": [
    "### 1. Preprocessing Function"
   ],
   "metadata": {
    "collapsed": false
   },
   "id": "f9d4facaecef1bef"
  },
  {
   "cell_type": "code",
   "outputs": [],
   "source": [
    "# Define the required NLTK data\n",
    "nltk_data = {\n",
    "    'stopwords': 'corpora/stopwords',\n",
    "    'punkt': 'tokenizers/punkt',\n",
    "    'wordnet': 'corpora/wordnet.zip'\n",
    "}\n",
    "\n",
    "# Ensure all necessary NLTK data is downloaded\n",
    "for data, resource in nltk_data.items():\n",
    "    try:\n",
    "        nltk.data.find(resource)\n",
    "    except LookupError:\n",
    "        nltk.download(data)\n",
    "\n",
    "# Define stopwords and lemmatizer\n",
    "stop_words = set(stopwords.words('english'))\n",
    "lemmatizer = WordNetLemmatizer()\n",
    "\n",
    "def preprocess_text(text):\n",
    "    # Convert text to lowercase\n",
    "    text = text.lower()\n",
    "    \n",
    "    # Remove punctuation marks\n",
    "    text = re.sub(r'[^\\w\\s]', ' ', text)\n",
    "    \n",
    "    # Remove numbers\n",
    "    text = re.sub(r'\\d+', ' ', text)\n",
    "    \n",
    "    # Remove links\n",
    "    text = re.sub(r'http\\S+|www\\S+|https\\S+', ' ', text, flags=re.MULTILINE)\n",
    "    \n",
    "    # Remove user references\n",
    "    text = re.sub(r'@\\w+', ' ', text)\n",
    "    \n",
    "    # Remove emojis\n",
    "    text = emoji.demojize(text)\n",
    "    \n",
    "    # Unify white spaces\n",
    "    text = re.sub(r'\\s+', ' ', text).strip()\n",
    "    \n",
    "    # Eliminate non-word phrases\n",
    "    text = re.sub(r'\\W', ' ', text)\n",
    "    \n",
    "    # Tokenize\n",
    "    tokens = word_tokenize(text)\n",
    "    \n",
    "    # Remove stop words and lemmatize the tokens\n",
    "    tokens = [lemmatizer.lemmatize(token) for token in tokens if token not in stop_words and token.isalpha()]\n",
    "    \n",
    "    return tokens\n"
   ],
   "metadata": {
    "collapsed": false,
    "ExecuteTime": {
     "end_time": "2024-06-07T01:08:33.409906400Z",
     "start_time": "2024-06-07T01:08:33.388914500Z"
    }
   },
   "id": "efa3108cf693b88c",
   "execution_count": 14
  },
  {
   "cell_type": "markdown",
   "source": [
    "**Converting the text to lowercase**\n",
    "\n",
    "Advantages:\n",
    "- **Normalization:** Converting text to lowercase standardizes the text, ensuring that words like \"Apple\" and \"apple\" are treated as the same word. This reduces the complexity and variability in the text data, making it easier to process and analyze.\n",
    "- **Simplified Matching:** It simplifies string matching and comparisons, as we don't have to account for different capitalizations of the same word. This is particularly useful in natural language processing tasks where consistency is crucial.\n",
    "- **Reduced Vocabulary Size:** By converting text to lowercase, the vocabulary size is reduced, which can help in improving the efficiency of the model. A smaller vocabulary means fewer parameters to learn, which can lead to faster training times and less computational resource usage.\n",
    "\n",
    "Disadvantages:\n",
    "- **Loss of Information:** Case sensitivity can sometimes carry important information, especially in Named Entity Recognition (NER) tasks. Some words may carry different meanings based on their capitalization (e.g., \"Apple\" (the company) vs. \"apple\" (the fruit)). Converting to lowercase can result in the loss of such distinctions, potentially impacting the understanding of the context.\n",
    "- **Proper Nouns:** Capitalized words often represent proper nouns (names of people, places, organizations, etc.). Lowercasing these words can remove the indication that they are proper nouns, which might be relevant in some contexts.\n",
    "\n",
    "Why We Do This Processing:\n",
    "> We convert text to lowercase to simplify the text data, making it more consistent and easier to process. This step is typically done early in the preprocessing pipeline to ensure that all subsequent text manipulations operate on a normalized text format. Despite the potential loss of some context-specific information, the benefits of reducing variability and complexity in the text generally outweigh the disadvantages.\n",
    "\n",
    "***\n",
    "\n",
    "**Elimination of numbers**\n",
    "\n",
    "Advantages:\n",
    "- **Noise Reduction:** Numbers in text can often be irrelevant to the task at hand and may introduce noise. Removing numbers can help in focusing on the meaningful words that contribute to the understanding of the text.\n",
    "- **Simplified Tokenization:** By removing numbers, the tokenization process is simplified and focused on the actual textual content. Numbers can sometimes create challenges in tokenization, especially if they are part of words or phrases.\n",
    "- **Reduced Vocabulary Size:** Eliminating numbers reduces the size of the vocabulary, similar to the effect of lowercasing. This can lead to more efficient processing and potentially faster training times for machine learning models.\n",
    "\n",
    "Disadvantages:\n",
    "- **Loss of Information:** Numbers can carry significant information, especially in certain contexts (e.g., dates, quantities, measurements). Removing them can lead to the loss of potentially valuable information.\n",
    "- **Contextual Importance:** In some tasks, the presence and frequency of numbers might be crucial for understanding the text (e.g., financial documents, scientific papers). Removing numbers indiscriminately can negatively impact the performance of models in such tasks.\n",
    "\n",
    "Why We Do This Processing:\n",
    "> In many NLP tasks, especially those dealing with informal text like tweets, numbers often do not contribute to the understanding of the text's sentiment or intent. Therefore, removing numbers helps in simplifying the text and reducing noise, although this step should be carefully considered based on the specific task and dataset.\n",
    "\n",
    "***\n",
    "\n",
    "**Hashtags**\n",
    "\n",
    "Why We Keep Hashtags:\n",
    "> Hashtags are not removed during preprocessing because they carry significant semantic information. On Twitter, hashtags are used to categorize content, highlight key themes, and connect tweets to broader conversations. They often summarize the main topic or sentiment of the tweet in a concise way.\n",
    "\n",
    "Effect on Model Performance:\n",
    "- **Improved Context Understanding:** Hashtags can provide additional context to the tweet, which is beneficial for models to understand the underlying topics or sentiments. For instance, a tweet with #MentalHealth can give a clear indication that the content is related to mental health.\n",
    "- **Enhanced Feature Representation:** Including hashtags can enhance the feature representation of the text, as they can act as keywords that encapsulate the core message of the tweet. This can improve the model's ability to classify or analyze the text accurately.\n",
    "- **Community and Trend Detection:** Hashtags help in identifying community-specific language and trending topics. They can be useful in understanding the social dynamics and temporal patterns in the data.\n",
    "\n",
    "Potential Challenges:\n",
    "- **Noisy Data:** Sometimes hashtags can be very specific or obscure, leading to increased noise in the data. This can potentially introduce irrelevant features if the hashtag usage is not consistent across the dataset.\n",
    "- **Overfitting:** In some cases, models might overfit to specific hashtags, especially if they are very frequent or strongly correlated with particular labels. This can limit the model's generalizability to new, unseen data.\n"
   ],
   "metadata": {
    "collapsed": false
   },
   "id": "45085f7034ce4d15"
  },
  {
   "cell_type": "markdown",
   "source": [
    "### 2. Apply Preprocessing"
   ],
   "metadata": {
    "collapsed": false
   },
   "id": "e66ac4182bec1995"
  },
  {
   "cell_type": "code",
   "outputs": [
    {
     "name": "stdout",
     "output_type": "stream",
     "text": [
      "Original tweet:  you were amazing rach thank you for the music i waited outside but you never showed up there s always the next album\n",
      "Processed tokens: ['amazing', 'rach', 'thank', 'music', 'waited', 'outside', 'never', 'showed', 'always', 'next', 'album']\n",
      "Number of words in original tweet: 23\n",
      "Number of tokens in processed tweet: 11\n",
      "\n",
      "Original tweet: remember that i love you \n",
      "Processed tokens: ['remember', 'love']\n",
      "Number of words in original tweet: 5\n",
      "Number of tokens in processed tweet: 2\n",
      "\n",
      "Original tweet: is a pretty rad guy who knows how to make ppl laugh with his sharp wit and we can laugh at each other when i team kill him or i kill myself jumping through portals\n",
      "Processed tokens: ['pretty', 'rad', 'guy', 'know', 'make', 'ppl', 'laugh', 'sharp', 'wit', 'laugh', 'team', 'kill', 'kill', 'jumping', 'portal']\n",
      "Number of words in original tweet: 35\n",
      "Number of tokens in processed tweet: 15\n",
      "\n",
      "Original tweet:  tweet up no one invited me \n",
      "Processed tokens: ['tweet', 'one', 'invited']\n",
      "Number of words in original tweet: 6\n",
      "Number of tokens in processed tweet: 3\n",
      "\n",
      "Original tweet:  i did give you decaf lol and i am about to go o myspace and see what happensed some fuckers getting a new asshole\n",
      "Processed tokens: ['give', 'decaf', 'lol', 'go', 'myspace', 'see', 'happensed', 'fucker', 'getting', 'new', 'asshole']\n",
      "Number of words in original tweet: 24\n",
      "Number of tokens in processed tweet: 11\n"
     ]
    }
   ],
   "source": [
    "# Load dataset\n",
    "file_path = 'twitter-suicidal-data.csv'\n",
    "df = pd.read_csv(file_path)\n",
    "\n",
    "# Apply preprocessing to the dataset\n",
    "df['tokens'] = df['tweet'].apply(preprocess_text)\n",
    "\n",
    "# Display 5 random tweets and their processed tokens\n",
    "df_sample = df.sample(n=5)\n",
    "for index, row in df_sample.iterrows():\n",
    "    original_words = len(row['tweet'].split())\n",
    "    processed_tokens = len(row['tokens'])\n",
    "    print(f\"Original tweet: {row['tweet']}\")\n",
    "    print(f\"Processed tokens: {row['tokens']}\")\n",
    "    print(f\"Number of words in original tweet: {original_words}\")\n",
    "    print(f\"Number of tokens in processed tweet: {processed_tokens}\")\n",
    "    print()\n"
   ],
   "metadata": {
    "collapsed": false,
    "ExecuteTime": {
     "end_time": "2024-06-07T01:08:38.984685100Z",
     "start_time": "2024-06-07T01:08:33.416907400Z"
    }
   },
   "id": "e9e1ba5fd70127d",
   "execution_count": 15
  },
  {
   "cell_type": "markdown",
   "source": [
    "### 3. Distribution Box Plots"
   ],
   "metadata": {
    "collapsed": false
   },
   "id": "cd5bb6d6d1de74b0"
  },
  {
   "cell_type": "code",
   "outputs": [
    {
     "data": {
      "text/plain": "<Figure size 1400x400 with 1 Axes>",
      "image/png": "[encoded data removed]"
     },
     "metadata": {},
     "output_type": "display_data"
    },
    {
     "name": "stdout",
     "output_type": "stream",
     "text": [
      "Combined Statistics:\n",
      "  Statistic      Label 0      Label 1     All Data\n",
      "0     count  5121.000000  3998.000000  9119.000000\n",
      "1      mean     8.977543    73.830415    37.410681\n",
      "2       std     6.474626    96.862836    71.917229\n",
      "3       min     0.000000     0.000000     0.000000\n",
      "4       25%     4.000000    19.000000     6.000000\n",
      "5       50%     7.000000    46.000000    12.000000\n",
      "6       75%    12.000000    95.000000    37.000000\n",
      "7       max    38.000000  2134.000000  2134.000000\n"
     ]
    }
   ],
   "source": [
    "# Plotting token distribution\n",
    "label_0 = df[df['intention'] == 0]['tokens'].apply(len)\n",
    "label_1 = df[df['intention'] == 1]['tokens'].apply(len)\n",
    "all_data = df['tokens'].apply(len)\n",
    "\n",
    "data = [label_0, label_1, all_data]\n",
    "labels = ['Label 0', 'Label 1', 'All Data']\n",
    "\n",
    "plt.figure(figsize=(14, 4))\n",
    "plt.boxplot(data, labels=labels, vert=False)\n",
    "plt.xlabel('Number of Tokens')\n",
    "plt.title('Distribution of Number of Tokens per Tweet')\n",
    "plt.show()\n",
    "\n",
    "# Calculating statistics for token distribution\n",
    "label_0_stats = label_0.describe()\n",
    "label_1_stats = label_1.describe()\n",
    "all_data_stats = all_data.describe()\n",
    "\n",
    "# Creating a DataFrame to merge all statistics\n",
    "stats_df = pd.DataFrame({\n",
    "    'Statistic': label_0_stats.index,\n",
    "    'Label 0': label_0_stats.values,\n",
    "    'Label 1': label_1_stats.values,\n",
    "    'All Data': all_data_stats.values\n",
    "})\n",
    "\n",
    "print(\"Combined Statistics:\")\n",
    "print(stats_df)\n"
   ],
   "metadata": {
    "collapsed": false,
    "ExecuteTime": {
     "end_time": "2024-06-07T01:08:39.150080200Z",
     "start_time": "2024-06-07T01:08:38.981685600Z"
    }
   },
   "id": "66a6d3cf9d3b9916",
   "execution_count": 16
  },
  {
   "cell_type": "markdown",
   "source": [
    "### 4. Distribution Box Plots (without outliers)"
   ],
   "metadata": {
    "collapsed": false
   },
   "id": "ed44da96047d35a2"
  },
  {
   "cell_type": "code",
   "outputs": [
    {
     "name": "stdout",
     "output_type": "stream",
     "text": [
      "Number of outliers detected and removed:\n",
      "Label 0: 246\n",
      "Label 1: 258\n",
      "All Data: 1171\n"
     ]
    },
    {
     "data": {
      "text/plain": "<Figure size 1400x400 with 1 Axes>",
      "image/png": "[encoded data removed]"
     },
     "metadata": {},
     "output_type": "display_data"
    },
    {
     "name": "stdout",
     "output_type": "stream",
     "text": [
      "Combined Statistics After Removing Outliers:\n",
      "     Statistic      Label 0      Label 1     All Data\n",
      "0        count  4875.000000  3740.000000  7948.000000\n",
      "1         mean     8.088615    55.705615    17.417967\n",
      "2          std     5.235875    47.817387    18.375430\n",
      "3          min     0.000000     0.000000     0.000000\n",
      "4          25%     4.000000    18.000000     5.000000\n",
      "5          50%     7.000000    42.000000    10.000000\n",
      "6          75%    11.000000    82.000000    23.000000\n",
      "7          max    24.000000   209.000000    83.000000\n",
      "8  Lower Bound    -8.000000   -95.000000   -40.500000\n",
      "9  Upper Bound    24.000000   209.000000    83.500000\n"
     ]
    }
   ],
   "source": [
    "# Detecting and removing outliers using IQR method\n",
    "def remove_outliers(data):\n",
    "    Q1 = data.quantile(0.25)\n",
    "    Q3 = data.quantile(0.75)\n",
    "    IQR = Q3 - Q1\n",
    "    lower_bound = Q1 - 1.5 * IQR\n",
    "    upper_bound = Q3 + 1.5 * IQR\n",
    "    return data[(data >= lower_bound) & (data <= upper_bound)], lower_bound, upper_bound\n",
    "\n",
    "# Removing outliers for each label and all data\n",
    "label_0_no_outliers, lb_0, ub_0 = remove_outliers(label_0)\n",
    "label_1_no_outliers, lb_1, ub_1 = remove_outliers(label_1)\n",
    "all_data_no_outliers, lb_all, ub_all = remove_outliers(all_data)\n",
    "\n",
    "# Displaying the number of outliers detected and removed\n",
    "outliers_label_0 = len(label_0) - len(label_0_no_outliers)\n",
    "outliers_label_1 = len(label_1) - len(label_1_no_outliers)\n",
    "outliers_all_data = len(all_data) - len(all_data_no_outliers)\n",
    "\n",
    "print(f\"Number of outliers detected and removed:\")\n",
    "print(f\"Label 0: {outliers_label_0}\")\n",
    "print(f\"Label 1: {outliers_label_1}\")\n",
    "print(f\"All Data: {outliers_all_data}\")\n",
    "\n",
    "# Plotting token distribution after removing outliers\n",
    "data_no_outliers = [label_0_no_outliers, label_1_no_outliers, all_data_no_outliers]\n",
    "labels_no_outliers = ['Label 0', 'Label 1', 'All Data']\n",
    "\n",
    "plt.figure(figsize=(14, 4))\n",
    "plt.boxplot(data_no_outliers, labels=labels_no_outliers, vert=False)\n",
    "plt.xlabel('Number of Tokens')\n",
    "plt.title('Distribution of Number of Tokens per Tweet After Removing Outliers')\n",
    "plt.show()\n",
    "\n",
    "# Calculating statistics after removing outliers\n",
    "label_0_stats_no_outliers = label_0_no_outliers.describe()\n",
    "label_1_stats_no_outliers = label_1_no_outliers.describe()\n",
    "all_data_stats_no_outliers = all_data_no_outliers.describe()\n",
    "\n",
    "# Combined Statistics After Removing Outliers\n",
    "stats_no_outliers_df = pd.DataFrame({\n",
    "    'Statistic': label_0_stats_no_outliers.index.tolist() + ['Lower Bound', 'Upper Bound'],\n",
    "    'Label 0': label_0_stats_no_outliers.values.tolist() + [lb_0, ub_0],\n",
    "    'Label 1': label_1_stats_no_outliers.values.tolist() + [lb_1, ub_1],\n",
    "    'All Data': all_data_stats_no_outliers.values.tolist() + [lb_all, ub_all]\n",
    "})\n",
    "\n",
    "print(\"Combined Statistics After Removing Outliers:\")\n",
    "print(stats_no_outliers_df)\n"
   ],
   "metadata": {
    "collapsed": false,
    "ExecuteTime": {
     "end_time": "2024-06-07T01:08:39.322376400Z",
     "start_time": "2024-06-07T01:08:39.153082300Z"
    }
   },
   "id": "b4ed72e144d18625",
   "execution_count": 17
  },
  {
   "cell_type": "code",
   "outputs": [],
   "source": [],
   "metadata": {
    "collapsed": false,
    "ExecuteTime": {
     "end_time": "2024-06-07T01:08:39.330375300Z",
     "start_time": "2024-06-07T01:08:39.322376400Z"
    }
   },
   "id": "e999505b96223856",
   "execution_count": 17
  }
 ],
 "metadata": {
  "kernelspec": {
   "display_name": "Python 3",
   "language": "python",
   "name": "python3"
  },
  "language_info": {
   "codemirror_mode": {
    "name": "ipython",
    "version": 2
   },
   "file_extension": ".py",
   "mimetype": "text/x-python",
   "name": "python",
   "nbconvert_exporter": "python",
   "pygments_lexer": "ipython2",
   "version": "2.7.6"
  }
 },
 "nbformat": 4,
 "nbformat_minor": 5
}
