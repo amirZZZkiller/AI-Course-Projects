{
 "cells": [
  {
   "cell_type": "markdown",
   "metadata": {
    "id": "D4rCLGbP9QAB"
   },
   "source": [
    "## Artificial Intelligence | 4022 | Dr. Fadaei\n",
    "## Assignment #06\n",
    "***\n",
    "### Amirreza Akbari | 810899045\n",
    "### 1402/03/26"
   ]
  },
  {
   "cell_type": "code",
   "outputs": [],
   "source": [],
   "metadata": {
    "collapsed": false
   }
  }
 ],
 "metadata": {
  "accelerator": "GPU",
  "colab": {
   "gpuType": "T4",
   "provenance": []
  },
  "kernelspec": {
   "display_name": "Python 3",
   "name": "python3"
  },
  "language_info": {
   "name": "python"
  }
 },
 "nbformat": 4,
 "nbformat_minor": 0
}
